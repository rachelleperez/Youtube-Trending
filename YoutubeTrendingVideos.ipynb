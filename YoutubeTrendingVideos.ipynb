{
 "cells": [
  {
   "cell_type": "markdown",
   "metadata": {},
   "source": [
    "# \"Trends on Trends\" - An Analysis of Youtube Trending Videos\n",
    "\n",
    "\n",
    "This project will explore how the Youtube creator and other viewers affect the path from viewer to view, within the Youtube platform (excluding outside factors)."
   ]
  },
  {
   "cell_type": "code",
   "execution_count": 16,
   "metadata": {
    "scrolled": false
   },
   "outputs": [
    {
     "data": {
      "image/png": "[encoded data removed]",
      "text/plain": [
       "<IPython.core.display.Image object>"
      ]
     },
     "execution_count": 16,
     "metadata": {},
     "output_type": "execute_result"
    }
   ],
   "source": [
    "from IPython.display import Image\n",
    "Image(filename='Youtube Relationship - Diagram.PNG') "
   ]
  },
  {
   "cell_type": "markdown",
   "metadata": {},
   "source": [
    "\n",
    "## QUESTIONS TO EXPLORE\n",
    "\n",
    "### * Are there any patterns that can predict video trendability? \n",
    "### * Whose actions correlate with trendability (creator, viewer, platform)?\n",
    "### * Based on data, any areas Youtube should focus on supporting?\n"
   ]
  },
  {
   "cell_type": "markdown",
   "metadata": {},
   "source": [
    "## DATA BACKGROUND & PREVIEW\n",
    "\n",
    "### What data is available?\n",
    "* \"Daily Record of the Top Trending Youtube Videos\"\n",
    "* Up to 200 trending videos per day\n",
    "* Two dataframes with the same columns (19). 'df' contains one line per video with final numbers while \"df_all_timestamps\" contains snapshots throughtout the day. \n",
    "\n",
    "### Limitations\n",
    "* No data on the viewers or path to arrive to video. \n",
    "\n",
    "### Questions\n",
    "* What defines trending? "
   ]
  },
  {
   "cell_type": "code",
   "execution_count": 4,
   "metadata": {},
   "outputs": [],
   "source": [
    "import os\n",
    "import pandas as pd\n",
    "import seaborn as sns\n",
    "import matplotlib.pyplot as plt"
   ]
  },
  {
   "cell_type": "code",
   "execution_count": 6,
   "metadata": {},
   "outputs": [],
   "source": [
    "filename1 = 'dataframe.csv'\n",
    "filename2 = 'dataframe_all_timestamps.csv'\n",
    "\n",
    "datapath1 = os.path.join('..',filename1)\n",
    "datapath2 = os.path.join('..',filename2)"
   ]
  },
  {
   "cell_type": "code",
   "execution_count": 7,
   "metadata": {},
   "outputs": [],
   "source": [
    "df = pd.read_csv(datapath1)\n",
    "df_all_timestamps = pd.read_csv(datapath2)"
   ]
  },
  {
   "cell_type": "code",
   "execution_count": 5,
   "metadata": {},
   "outputs": [
    {
     "name": "stdout",
     "output_type": "stream",
     "text": [
      "<class 'pandas.core.frame.DataFrame'>\n",
      "RangeIndex: 171149 entries, 0 to 171148\n",
      "Data columns (total 19 columns):\n",
      "video_id                  171149 non-null object\n",
      "trending_date             171149 non-null object\n",
      "title                     171149 non-null object\n",
      "channel_title             171149 non-null object\n",
      "category_id               171149 non-null int64\n",
      "category                  171149 non-null object\n",
      "publish_date              171149 non-null object\n",
      "publish_time              171149 non-null object\n",
      "tags                      171149 non-null object\n",
      "views                     171149 non-null int64\n",
      "likes                     171149 non-null int64\n",
      "dislikes                  171149 non-null int64\n",
      "comment_count             171149 non-null int64\n",
      "thumbnail_link            171149 non-null object\n",
      "comments_disabled         171149 non-null bool\n",
      "ratings_disabled          171149 non-null bool\n",
      "video_error_or_removed    171149 non-null bool\n",
      "description               171149 non-null object\n",
      "country                   171149 non-null object\n",
      "dtypes: bool(3), int64(5), object(11)\n",
      "memory usage: 21.4+ MB\n"
     ]
    }
   ],
   "source": [
    "df.info()"
   ]
  },
  {
   "cell_type": "code",
   "execution_count": 6,
   "metadata": {},
   "outputs": [
    {
     "name": "stdout",
     "output_type": "stream",
     "text": [
      "<class 'pandas.core.frame.DataFrame'>\n",
      "RangeIndex: 356350 entries, 0 to 356349\n",
      "Data columns (total 19 columns):\n",
      "video_id                  356350 non-null object\n",
      "trending_date             356350 non-null object\n",
      "title                     356350 non-null object\n",
      "channel_title             356350 non-null object\n",
      "category_id               356350 non-null int64\n",
      "category                  356350 non-null object\n",
      "publish_date              356350 non-null object\n",
      "publish_time              356350 non-null object\n",
      "tags                      356350 non-null object\n",
      "views                     356350 non-null int64\n",
      "likes                     356350 non-null int64\n",
      "dislikes                  356350 non-null int64\n",
      "comment_count             356350 non-null int64\n",
      "thumbnail_link            356350 non-null object\n",
      "comments_disabled         356350 non-null bool\n",
      "ratings_disabled          356350 non-null bool\n",
      "video_error_or_removed    356350 non-null bool\n",
      "description               356350 non-null object\n",
      "country                   356350 non-null object\n",
      "dtypes: bool(3), int64(5), object(11)\n",
      "memory usage: 44.5+ MB\n"
     ]
    }
   ],
   "source": [
    "df_all_timestamps.info()"
   ]
  },
  {
   "cell_type": "code",
   "execution_count": 7,
   "metadata": {
    "scrolled": true
   },
   "outputs": [
    {
     "data": {
      "text/html": [
       "<div>\n",
       "<style scoped>\n",
       "    .dataframe tbody tr th:only-of-type {\n",
       "        vertical-align: middle;\n",
       "    }\n",
       "\n",
       "    .dataframe tbody tr th {\n",
       "        vertical-align: top;\n",
       "    }\n",
       "\n",
       "    .dataframe thead th {\n",
       "        text-align: right;\n",
       "    }\n",
       "</style>\n",
       "<table border=\"1\" class=\"dataframe\">\n",
       "  <thead>\n",
       "    <tr style=\"text-align: right;\">\n",
       "      <th></th>\n",
       "      <th>video_id</th>\n",
       "      <th>trending_date</th>\n",
       "      <th>title</th>\n",
       "      <th>channel_title</th>\n",
       "      <th>category_id</th>\n",
       "      <th>category</th>\n",
       "      <th>publish_date</th>\n",
       "      <th>publish_time</th>\n",
       "      <th>tags</th>\n",
       "      <th>views</th>\n",
       "      <th>likes</th>\n",
       "      <th>dislikes</th>\n",
       "      <th>comment_count</th>\n",
       "      <th>thumbnail_link</th>\n",
       "      <th>comments_disabled</th>\n",
       "      <th>ratings_disabled</th>\n",
       "      <th>video_error_or_removed</th>\n",
       "      <th>description</th>\n",
       "      <th>country</th>\n",
       "    </tr>\n",
       "  </thead>\n",
       "  <tbody>\n",
       "    <tr>\n",
       "      <td>0</td>\n",
       "      <td>cJon8yBKv3g</td>\n",
       "      <td>2017-11-14</td>\n",
       "      <td>Kingsman : Le Cercle d'or (Mickael J Critique)</td>\n",
       "      <td>MJ - FERMEZ LA</td>\n",
       "      <td>1</td>\n",
       "      <td>Film &amp; Animation</td>\n",
       "      <td>2017-11-12</td>\n",
       "      <td>17:58:57</td>\n",
       "      <td>VoxMakers\"|\"FERMEZ LA\"|\"Alert Spoiler\"|\"Matthe...</td>\n",
       "      <td>19487</td>\n",
       "      <td>1596</td>\n",
       "      <td>23</td>\n",
       "      <td>215</td>\n",
       "      <td>https://i.ytimg.com/vi/cJon8yBKv3g/default.jpg</td>\n",
       "      <td>False</td>\n",
       "      <td>False</td>\n",
       "      <td>False</td>\n",
       "      <td>Avec un peu de retard, voici l'avis de Mickael...</td>\n",
       "      <td>FR</td>\n",
       "    </tr>\n",
       "    <tr>\n",
       "      <td>1</td>\n",
       "      <td>g12KeCPRB4Q</td>\n",
       "      <td>2017-11-14</td>\n",
       "      <td>Vide grenier LIVE - 12 Novembre 2017</td>\n",
       "      <td>Kirby-54</td>\n",
       "      <td>20</td>\n",
       "      <td>Gaming</td>\n",
       "      <td>2017-11-12</td>\n",
       "      <td>13:46:18</td>\n",
       "      <td>Vide grenier\"|\"vide grenier live\"|\"brocante\"|\"...</td>\n",
       "      <td>20744</td>\n",
       "      <td>1032</td>\n",
       "      <td>558</td>\n",
       "      <td>243</td>\n",
       "      <td>https://i.ytimg.com/vi/g12KeCPRB4Q/default.jpg</td>\n",
       "      <td>False</td>\n",
       "      <td>False</td>\n",
       "      <td>False</td>\n",
       "      <td>C'est reparti pour un nouveau compte rendu vid...</td>\n",
       "      <td>FR</td>\n",
       "    </tr>\n",
       "    <tr>\n",
       "      <td>2</td>\n",
       "      <td>irIZRH3JlIw</td>\n",
       "      <td>2017-11-14</td>\n",
       "      <td>لقجع يثور في وجه الإتحاد الإيفواري بسبب الجماه...</td>\n",
       "      <td>أخبار اليوم</td>\n",
       "      <td>25</td>\n",
       "      <td>News &amp; Politics</td>\n",
       "      <td>2017-11-12</td>\n",
       "      <td>19:08:08</td>\n",
       "      <td>قناة أخبار اليوم\"|\"يومية المغرب\"|\"دولية\"|\"قضية...</td>\n",
       "      <td>207452</td>\n",
       "      <td>1415</td>\n",
       "      <td>148</td>\n",
       "      <td>90</td>\n",
       "      <td>https://i.ytimg.com/vi/irIZRH3JlIw/default.jpg</td>\n",
       "      <td>False</td>\n",
       "      <td>False</td>\n",
       "      <td>False</td>\n",
       "      <td>لقجع يثور في وجه الإتحاد الإيفواري بسبب الجماه...</td>\n",
       "      <td>FR</td>\n",
       "    </tr>\n",
       "    <tr>\n",
       "      <td>3</td>\n",
       "      <td>SnHtzkQZggA</td>\n",
       "      <td>2017-11-14</td>\n",
       "      <td>عروس اسطنبول | اعلان الحلقة 25 | - مترجم للعربية</td>\n",
       "      <td>تركييتنا - bizim Türkiye</td>\n",
       "      <td>1</td>\n",
       "      <td>Film &amp; Animation</td>\n",
       "      <td>2017-11-13</td>\n",
       "      <td>19:58:33</td>\n",
       "      <td>مسلسل عروس اسطنبول\"|\"عروس اسطنبول\"|\"عروس اسطنب...</td>\n",
       "      <td>15899</td>\n",
       "      <td>142</td>\n",
       "      <td>10</td>\n",
       "      <td>7</td>\n",
       "      <td>https://i.ytimg.com/vi/SnHtzkQZggA/default.jpg</td>\n",
       "      <td>False</td>\n",
       "      <td>False</td>\n",
       "      <td>False</td>\n",
       "      <td>عروس اسطنبول | اعلان الحلقة 25 | - مترجم للعرب...</td>\n",
       "      <td>FR</td>\n",
       "    </tr>\n",
       "    <tr>\n",
       "      <td>4</td>\n",
       "      <td>u6EoWM2KMPE</td>\n",
       "      <td>2017-11-14</td>\n",
       "      <td>Portokalli, 12 Nentor 2017 - Policat e postbll...</td>\n",
       "      <td>Top Channel Albania</td>\n",
       "      <td>23</td>\n",
       "      <td>Comedy</td>\n",
       "      <td>2017-11-13</td>\n",
       "      <td>13:33:26</td>\n",
       "      <td>Portokalli\"|\"Comedy Show\"|\"Top Channel Albania...</td>\n",
       "      <td>100607</td>\n",
       "      <td>1159</td>\n",
       "      <td>48</td>\n",
       "      <td>35</td>\n",
       "      <td>https://i.ytimg.com/vi/u6EoWM2KMPE/default.jpg</td>\n",
       "      <td>False</td>\n",
       "      <td>False</td>\n",
       "      <td>False</td>\n",
       "      <td>http://top-channel.tv/programe/portokalli/</td>\n",
       "      <td>FR</td>\n",
       "    </tr>\n",
       "  </tbody>\n",
       "</table>\n",
       "</div>"
      ],
      "text/plain": [
       "      video_id trending_date  \\\n",
       "0  cJon8yBKv3g    2017-11-14   \n",
       "1  g12KeCPRB4Q    2017-11-14   \n",
       "2  irIZRH3JlIw    2017-11-14   \n",
       "3  SnHtzkQZggA    2017-11-14   \n",
       "4  u6EoWM2KMPE    2017-11-14   \n",
       "\n",
       "                                               title  \\\n",
       "0     Kingsman : Le Cercle d'or (Mickael J Critique)   \n",
       "1               Vide grenier LIVE - 12 Novembre 2017   \n",
       "2  لقجع يثور في وجه الإتحاد الإيفواري بسبب الجماه...   \n",
       "3   عروس اسطنبول | اعلان الحلقة 25 | - مترجم للعربية   \n",
       "4  Portokalli, 12 Nentor 2017 - Policat e postbll...   \n",
       "\n",
       "              channel_title  category_id          category publish_date  \\\n",
       "0            MJ - FERMEZ LA            1  Film & Animation   2017-11-12   \n",
       "1                  Kirby-54           20            Gaming   2017-11-12   \n",
       "2               أخبار اليوم           25   News & Politics   2017-11-12   \n",
       "3  تركييتنا - bizim Türkiye            1  Film & Animation   2017-11-13   \n",
       "4       Top Channel Albania           23            Comedy   2017-11-13   \n",
       "\n",
       "  publish_time                                               tags   views  \\\n",
       "0     17:58:57  VoxMakers\"|\"FERMEZ LA\"|\"Alert Spoiler\"|\"Matthe...   19487   \n",
       "1     13:46:18  Vide grenier\"|\"vide grenier live\"|\"brocante\"|\"...   20744   \n",
       "2     19:08:08  قناة أخبار اليوم\"|\"يومية المغرب\"|\"دولية\"|\"قضية...  207452   \n",
       "3     19:58:33  مسلسل عروس اسطنبول\"|\"عروس اسطنبول\"|\"عروس اسطنب...   15899   \n",
       "4     13:33:26  Portokalli\"|\"Comedy Show\"|\"Top Channel Albania...  100607   \n",
       "\n",
       "   likes  dislikes  comment_count  \\\n",
       "0   1596        23            215   \n",
       "1   1032       558            243   \n",
       "2   1415       148             90   \n",
       "3    142        10              7   \n",
       "4   1159        48             35   \n",
       "\n",
       "                                   thumbnail_link  comments_disabled  \\\n",
       "0  https://i.ytimg.com/vi/cJon8yBKv3g/default.jpg              False   \n",
       "1  https://i.ytimg.com/vi/g12KeCPRB4Q/default.jpg              False   \n",
       "2  https://i.ytimg.com/vi/irIZRH3JlIw/default.jpg              False   \n",
       "3  https://i.ytimg.com/vi/SnHtzkQZggA/default.jpg              False   \n",
       "4  https://i.ytimg.com/vi/u6EoWM2KMPE/default.jpg              False   \n",
       "\n",
       "   ratings_disabled  video_error_or_removed  \\\n",
       "0             False                   False   \n",
       "1             False                   False   \n",
       "2             False                   False   \n",
       "3             False                   False   \n",
       "4             False                   False   \n",
       "\n",
       "                                         description country  \n",
       "0  Avec un peu de retard, voici l'avis de Mickael...      FR  \n",
       "1  C'est reparti pour un nouveau compte rendu vid...      FR  \n",
       "2  لقجع يثور في وجه الإتحاد الإيفواري بسبب الجماه...      FR  \n",
       "3  عروس اسطنبول | اعلان الحلقة 25 | - مترجم للعرب...      FR  \n",
       "4         http://top-channel.tv/programe/portokalli/      FR  "
      ]
     },
     "execution_count": 7,
     "metadata": {},
     "output_type": "execute_result"
    }
   ],
   "source": [
    "df.head()"
   ]
  },
  {
   "cell_type": "code",
   "execution_count": 8,
   "metadata": {
    "scrolled": true
   },
   "outputs": [
    {
     "data": {
      "text/html": [
       "<div>\n",
       "<style scoped>\n",
       "    .dataframe tbody tr th:only-of-type {\n",
       "        vertical-align: middle;\n",
       "    }\n",
       "\n",
       "    .dataframe tbody tr th {\n",
       "        vertical-align: top;\n",
       "    }\n",
       "\n",
       "    .dataframe thead th {\n",
       "        text-align: right;\n",
       "    }\n",
       "</style>\n",
       "<table border=\"1\" class=\"dataframe\">\n",
       "  <thead>\n",
       "    <tr style=\"text-align: right;\">\n",
       "      <th></th>\n",
       "      <th>video_id</th>\n",
       "      <th>trending_date</th>\n",
       "      <th>title</th>\n",
       "      <th>channel_title</th>\n",
       "      <th>category_id</th>\n",
       "      <th>category</th>\n",
       "      <th>publish_date</th>\n",
       "      <th>publish_time</th>\n",
       "      <th>tags</th>\n",
       "      <th>views</th>\n",
       "      <th>likes</th>\n",
       "      <th>dislikes</th>\n",
       "      <th>comment_count</th>\n",
       "      <th>thumbnail_link</th>\n",
       "      <th>comments_disabled</th>\n",
       "      <th>ratings_disabled</th>\n",
       "      <th>video_error_or_removed</th>\n",
       "      <th>description</th>\n",
       "      <th>country</th>\n",
       "    </tr>\n",
       "  </thead>\n",
       "  <tbody>\n",
       "    <tr>\n",
       "      <td>0</td>\n",
       "      <td>n1WpP7iowLc</td>\n",
       "      <td>2017-11-14</td>\n",
       "      <td>Eminem - Walk On Water (Audio) ft. Beyoncé</td>\n",
       "      <td>EminemVEVO</td>\n",
       "      <td>10</td>\n",
       "      <td>Music</td>\n",
       "      <td>2017-11-10</td>\n",
       "      <td>17:00:03</td>\n",
       "      <td>Eminem|\"Walk\"|\"On\"|\"Water\"|\"Aftermath/Shady/In...</td>\n",
       "      <td>17158579</td>\n",
       "      <td>787425</td>\n",
       "      <td>43420</td>\n",
       "      <td>125882</td>\n",
       "      <td>https://i.ytimg.com/vi/n1WpP7iowLc/default.jpg</td>\n",
       "      <td>False</td>\n",
       "      <td>False</td>\n",
       "      <td>False</td>\n",
       "      <td>Eminem's new track Walk on Water ft. Beyoncé i...</td>\n",
       "      <td>CA</td>\n",
       "    </tr>\n",
       "    <tr>\n",
       "      <td>1</td>\n",
       "      <td>cJon8yBKv3g</td>\n",
       "      <td>2017-11-14</td>\n",
       "      <td>Kingsman : Le Cercle d'or (Mickael J Critique)</td>\n",
       "      <td>MJ - FERMEZ LA</td>\n",
       "      <td>1</td>\n",
       "      <td>Film &amp; Animation</td>\n",
       "      <td>2017-11-12</td>\n",
       "      <td>17:58:57</td>\n",
       "      <td>VoxMakers\"|\"FERMEZ LA\"|\"Alert Spoiler\"|\"Matthe...</td>\n",
       "      <td>19487</td>\n",
       "      <td>1596</td>\n",
       "      <td>23</td>\n",
       "      <td>215</td>\n",
       "      <td>https://i.ytimg.com/vi/cJon8yBKv3g/default.jpg</td>\n",
       "      <td>False</td>\n",
       "      <td>False</td>\n",
       "      <td>False</td>\n",
       "      <td>Avec un peu de retard, voici l'avis de Mickael...</td>\n",
       "      <td>FR</td>\n",
       "    </tr>\n",
       "    <tr>\n",
       "      <td>2</td>\n",
       "      <td>g12KeCPRB4Q</td>\n",
       "      <td>2017-11-14</td>\n",
       "      <td>Vide grenier LIVE - 12 Novembre 2017</td>\n",
       "      <td>Kirby-54</td>\n",
       "      <td>20</td>\n",
       "      <td>Gaming</td>\n",
       "      <td>2017-11-12</td>\n",
       "      <td>13:46:18</td>\n",
       "      <td>Vide grenier\"|\"vide grenier live\"|\"brocante\"|\"...</td>\n",
       "      <td>20744</td>\n",
       "      <td>1032</td>\n",
       "      <td>558</td>\n",
       "      <td>243</td>\n",
       "      <td>https://i.ytimg.com/vi/g12KeCPRB4Q/default.jpg</td>\n",
       "      <td>False</td>\n",
       "      <td>False</td>\n",
       "      <td>False</td>\n",
       "      <td>C'est reparti pour un nouveau compte rendu vid...</td>\n",
       "      <td>FR</td>\n",
       "    </tr>\n",
       "    <tr>\n",
       "      <td>3</td>\n",
       "      <td>irIZRH3JlIw</td>\n",
       "      <td>2017-11-14</td>\n",
       "      <td>لقجع يثور في وجه الإتحاد الإيفواري بسبب الجماه...</td>\n",
       "      <td>أخبار اليوم</td>\n",
       "      <td>25</td>\n",
       "      <td>News &amp; Politics</td>\n",
       "      <td>2017-11-12</td>\n",
       "      <td>19:08:08</td>\n",
       "      <td>قناة أخبار اليوم\"|\"يومية المغرب\"|\"دولية\"|\"قضية...</td>\n",
       "      <td>207452</td>\n",
       "      <td>1415</td>\n",
       "      <td>148</td>\n",
       "      <td>90</td>\n",
       "      <td>https://i.ytimg.com/vi/irIZRH3JlIw/default.jpg</td>\n",
       "      <td>False</td>\n",
       "      <td>False</td>\n",
       "      <td>False</td>\n",
       "      <td>لقجع يثور في وجه الإتحاد الإيفواري بسبب الجماه...</td>\n",
       "      <td>FR</td>\n",
       "    </tr>\n",
       "    <tr>\n",
       "      <td>4</td>\n",
       "      <td>SnHtzkQZggA</td>\n",
       "      <td>2017-11-14</td>\n",
       "      <td>عروس اسطنبول | اعلان الحلقة 25 | - مترجم للعربية</td>\n",
       "      <td>تركييتنا - bizim Türkiye</td>\n",
       "      <td>1</td>\n",
       "      <td>Film &amp; Animation</td>\n",
       "      <td>2017-11-13</td>\n",
       "      <td>19:58:33</td>\n",
       "      <td>مسلسل عروس اسطنبول\"|\"عروس اسطنبول\"|\"عروس اسطنب...</td>\n",
       "      <td>15899</td>\n",
       "      <td>142</td>\n",
       "      <td>10</td>\n",
       "      <td>7</td>\n",
       "      <td>https://i.ytimg.com/vi/SnHtzkQZggA/default.jpg</td>\n",
       "      <td>False</td>\n",
       "      <td>False</td>\n",
       "      <td>False</td>\n",
       "      <td>عروس اسطنبول | اعلان الحلقة 25 | - مترجم للعرب...</td>\n",
       "      <td>FR</td>\n",
       "    </tr>\n",
       "  </tbody>\n",
       "</table>\n",
       "</div>"
      ],
      "text/plain": [
       "      video_id trending_date  \\\n",
       "0  n1WpP7iowLc    2017-11-14   \n",
       "1  cJon8yBKv3g    2017-11-14   \n",
       "2  g12KeCPRB4Q    2017-11-14   \n",
       "3  irIZRH3JlIw    2017-11-14   \n",
       "4  SnHtzkQZggA    2017-11-14   \n",
       "\n",
       "                                               title  \\\n",
       "0         Eminem - Walk On Water (Audio) ft. Beyoncé   \n",
       "1     Kingsman : Le Cercle d'or (Mickael J Critique)   \n",
       "2               Vide grenier LIVE - 12 Novembre 2017   \n",
       "3  لقجع يثور في وجه الإتحاد الإيفواري بسبب الجماه...   \n",
       "4   عروس اسطنبول | اعلان الحلقة 25 | - مترجم للعربية   \n",
       "\n",
       "              channel_title  category_id          category publish_date  \\\n",
       "0                EminemVEVO           10             Music   2017-11-10   \n",
       "1            MJ - FERMEZ LA            1  Film & Animation   2017-11-12   \n",
       "2                  Kirby-54           20            Gaming   2017-11-12   \n",
       "3               أخبار اليوم           25   News & Politics   2017-11-12   \n",
       "4  تركييتنا - bizim Türkiye            1  Film & Animation   2017-11-13   \n",
       "\n",
       "  publish_time                                               tags     views  \\\n",
       "0     17:00:03  Eminem|\"Walk\"|\"On\"|\"Water\"|\"Aftermath/Shady/In...  17158579   \n",
       "1     17:58:57  VoxMakers\"|\"FERMEZ LA\"|\"Alert Spoiler\"|\"Matthe...     19487   \n",
       "2     13:46:18  Vide grenier\"|\"vide grenier live\"|\"brocante\"|\"...     20744   \n",
       "3     19:08:08  قناة أخبار اليوم\"|\"يومية المغرب\"|\"دولية\"|\"قضية...    207452   \n",
       "4     19:58:33  مسلسل عروس اسطنبول\"|\"عروس اسطنبول\"|\"عروس اسطنب...     15899   \n",
       "\n",
       "    likes  dislikes  comment_count  \\\n",
       "0  787425     43420         125882   \n",
       "1    1596        23            215   \n",
       "2    1032       558            243   \n",
       "3    1415       148             90   \n",
       "4     142        10              7   \n",
       "\n",
       "                                   thumbnail_link  comments_disabled  \\\n",
       "0  https://i.ytimg.com/vi/n1WpP7iowLc/default.jpg              False   \n",
       "1  https://i.ytimg.com/vi/cJon8yBKv3g/default.jpg              False   \n",
       "2  https://i.ytimg.com/vi/g12KeCPRB4Q/default.jpg              False   \n",
       "3  https://i.ytimg.com/vi/irIZRH3JlIw/default.jpg              False   \n",
       "4  https://i.ytimg.com/vi/SnHtzkQZggA/default.jpg              False   \n",
       "\n",
       "   ratings_disabled  video_error_or_removed  \\\n",
       "0             False                   False   \n",
       "1             False                   False   \n",
       "2             False                   False   \n",
       "3             False                   False   \n",
       "4             False                   False   \n",
       "\n",
       "                                         description country  \n",
       "0  Eminem's new track Walk on Water ft. Beyoncé i...      CA  \n",
       "1  Avec un peu de retard, voici l'avis de Mickael...      FR  \n",
       "2  C'est reparti pour un nouveau compte rendu vid...      FR  \n",
       "3  لقجع يثور في وجه الإتحاد الإيفواري بسبب الجماه...      FR  \n",
       "4  عروس اسطنبول | اعلان الحلقة 25 | - مترجم للعرب...      FR  "
      ]
     },
     "execution_count": 8,
     "metadata": {},
     "output_type": "execute_result"
    }
   ],
   "source": [
    "df_all_timestamps.head()"
   ]
  },
  {
   "cell_type": "markdown",
   "metadata": {},
   "source": [
    "## YOUTUBE CREATOR\n",
    "\n",
    "The Youtube Creator has a lot of control over the properties of the channel and video. The following properties are either manually entered by the creator OR are generated from a result of an action by the creator: Title, Description, Thumbnail, Tags, Category, Video Location (country), Comments Disabled, Ratings Disabled, Publish Date, and Publish Time.\n",
    "\n",
    "This section will explore if the properties that the creator has control of have any correlation with trendability.\n",
    "\n",
    "### Findings / Of Notice\n",
    "* FASDF\n",
    "\n",
    "### Business Insight\n",
    "* FASDFS\n",
    "\n",
    "### Further Study Needed\n",
    "* FASDF"
   ]
  },
  {
   "cell_type": "code",
   "execution_count": 33,
   "metadata": {
    "scrolled": true
   },
   "outputs": [
    {
     "name": "stdout",
     "output_type": "stream",
     "text": [
      "RU    30783\n",
      "MX    27900\n",
      "FR    24085\n",
      "DE    22965\n",
      "CA    17338\n",
      "IN    15222\n",
      "KR    13793\n",
      "JP    10808\n",
      "US     5185\n",
      "GB     3070\n",
      "Name: country, dtype: int64\n"
     ]
    }
   ],
   "source": [
    "country_count = df['country'].value_counts()\n",
    "print(country_count)"
   ]
  },
  {
   "cell_type": "code",
   "execution_count": 37,
   "metadata": {
    "scrolled": true
   },
   "outputs": [
    {
     "data": {
      "text/plain": [
       "Text(0, 0.5, 'Number of Trending Videos')"
      ]
     },
     "execution_count": 37,
     "metadata": {},
     "output_type": "execute_result"
    },
    {
     "data": {
      "image/png": "[encoded data removed]",
      "text/plain": [
       "<Figure size 720x720 with 1 Axes>"
      ]
     },
     "metadata": {
      "needs_background": "light"
     },
     "output_type": "display_data"
    }
   ],
   "source": [
    "# Bar plot of country\n",
    "\n",
    "fig = plt.figure(figsize=(10,10))\n",
    "ax = fig.gca()   \n",
    "country_count.plot(kind = 'bar', ax = ax)\n",
    "ax.set_title('Video Count By Country') # Give the plot a main title\n",
    "ax.set_xlabel('Country') # Set text for the x axis\n",
    "ax.set_ylabel('Number of Trending Videos')# Set text for y axis\n",
    "\n",
    "\n",
    "# FINDINGS\n",
    "# Russia, Mexico, and France are the top 3 origins of most trending videos"
   ]
  },
  {
   "cell_type": "code",
   "execution_count": 35,
   "metadata": {
    "scrolled": true
   },
   "outputs": [
    {
     "name": "stdout",
     "output_type": "stream",
     "text": [
      "Entertainment            50468\n",
      "People & Blogs           28045\n",
      "News & Politics          20327\n",
      "Sports                   12561\n",
      "Comedy                   10358\n",
      "Music                    10145\n",
      "Howto & Style             9580\n",
      "Film & Animation          8460\n",
      "Gaming                    5318\n",
      "Education                 3897\n",
      "Science & Technology      3404\n",
      "Autos & Vehicles          3274\n",
      "Pets & Animals            2271\n",
      "Nonprofits & Activism     1779\n",
      "Travel & Events            812\n",
      "Shows                      435\n",
      "Movies                      12\n",
      "Trailers                     3\n",
      "Name: category, dtype: int64\n"
     ]
    }
   ],
   "source": [
    "category_count = df['category'].value_counts()\n",
    "print(counts_all)"
   ]
  },
  {
   "cell_type": "code",
   "execution_count": 36,
   "metadata": {
    "scrolled": true
   },
   "outputs": [
    {
     "data": {
      "text/plain": [
       "Text(0, 0.5, 'Number of Trending Videos')"
      ]
     },
     "execution_count": 36,
     "metadata": {},
     "output_type": "execute_result"
    },
    {
     "data": {
      "image/png": "[encoded data removed]",
      "text/plain": [
       "<Figure size 720x720 with 1 Axes>"
      ]
     },
     "metadata": {
      "needs_background": "light"
     },
     "output_type": "display_data"
    }
   ],
   "source": [
    "# Bar plot per category\n",
    "\n",
    "fig = plt.figure(figsize=(10,10))\n",
    "ax = fig.gca()   \n",
    "category_count.plot(kind = 'bar', ax = ax)\n",
    "ax.set_title('Video Count By Category') # Give the plot a main title\n",
    "ax.set_xlabel('category') # Set text for the x axis\n",
    "ax.set_ylabel('Number of Trending Videos')# Set text for y axis\n",
    "\n",
    "# Findings \n"
   ]
  },
  {
   "cell_type": "code",
   "execution_count": 2,
   "metadata": {},
   "outputs": [],
   "source": [
    "#test - note"
   ]
  }
 ],
 "metadata": {
  "kernelspec": {
   "display_name": "Python 3",
   "language": "python",
   "name": "python3"
  },
  "language_info": {
   "codemirror_mode": {
    "name": "ipython",
    "version": 3
   },
   "file_extension": ".py",
   "mimetype": "text/x-python",
   "name": "python",
   "nbconvert_exporter": "python",
   "pygments_lexer": "ipython3",
   "version": "3.7.3"
  }
 },
 "nbformat": 4,
 "nbformat_minor": 2
}
